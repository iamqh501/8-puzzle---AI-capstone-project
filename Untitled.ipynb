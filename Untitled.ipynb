{
 "cells": [
  {
   "attachments": {
    "image.png": {
     "image/png": "[encoded data removed]"
    }
   },
   "cell_type": "markdown",
   "metadata": {},
   "source": [
    "# 8-puzzle Problem\n",
    "The initial state, and goal states must be randomly generated. The puzzle is a 3x3 matrix, where 0 denotes the blank tile.\n",
    "\n",
    "\n",
    "- States: locations of tiles\n",
    "- Actions: move \"blank\"\n",
    "- Goal: reach goal state - given\n",
    "- Path cost: 1 per test\n",
    "\n",
    "![image.png](attachment:image.png)\n",
    "## Implemented Algorithms\n",
    "- A* search\n",
    "- Iterative Deepening\n",
    "\n",
    "# Things to do\n",
    "We have to go through 2 stages\n",
    "## Stage 1: Build the program (coding)\n",
    "State representation: a matrix. In python: list of list `[[0,1,2], [3,4,5], [6,7,8]]`\n",
    "\n",
    "Current position of \"blank\" (which is 0 in matrix): `i,j`\n",
    "\n",
    "To handle the edges, we have **Constrant 1 :** `0 <= i,j <=2`\n",
    "\n",
    "Move \"blank\":\n",
    ">- \"blank\" move up: `state[i][j]` make swap with `state[i-1][j]`\n",
    ">- \"blank\" move right: `state[i][j]` make swap with `state[i][j+1]` <br>\n",
    "> -> Should pay attention to constraint 1, because if i = 0 -> i-1 = -1 (wrong)<br>\n",
    "\n",
    "You can add more variables if neccessary\n",
    "\n",
    "### Iterative Deepening\n",
    "Basic idea: Depth-limited-search with increasing depth until finding the result\n",
    "Depth-limited search: depth first search with depth limit\n",
    "\n",
    "Detail pseudo code have been describled in the slide of lecture 3\n",
    "\n",
    "### A* search\n",
    "Basic idea: Expand unexpanded node with lowest evaluation value\n",
    "\n",
    "n : current state\n",
    "\n",
    "Evaluation function f(n) = g(n) + h(n)\n",
    "- g(n) = cost so far to reach n - steps of \"blank\" from initial state to n\n",
    "- h(n) = estimated cost from n to goal -  total Manhattan (L1) distance\n",
    "- f(n) = estimated total cost of path through n to goal\n",
    "\n",
    "Fringe: ordered node according to f(n)\n",
    "\n",
    "## Stage 2: Evaluation and report\n",
    "Increase the matrix size, and apply the same algorithms. Analyze the changes that occur\n",
    "\n",
    "### Outputs\n",
    "* Time complexity (number of nodes expanded in order to solve the puzzle)\n",
    "* Space complexity (number of nodes kept in memory)\n",
    "* The sequence of moves from the blank tile to solve the puzzle (solution) or, if there is no possible solution, print “Unsolvable”\n",
    "\n",
    "\n",
    "Multiple puzzles **(at least 50)** should be generated and solved (or not, if they were not solvable).\n",
    "\n",
    "\n",
    "The above-mentioned indicators must therefore be aggregated (averaged for instance) before being analyzed in the report.\n"
   ]
  },
  {
   "cell_type": "markdown",
   "metadata": {},
   "source": [
    "Task:\n",
    "- Code Iterative deepening: Hiệp, Trang\n",
    "- Code A* search: Hưng, Huy\n",
    "\n",
    "Deadline: 23h59p tối thứ 5 tuần sau"
   ]
  },
  {
   "cell_type": "code",
   "execution_count": null,
   "metadata": {},
   "outputs": [],
   "source": [
    "def Greedy(initState, Goal):\n",
    "    fringe.append(initState)\n",
    "    while True:\n",
    "        node_to_expand = min(fringe,key = lambda x:Eval_function(x))\n",
    "        if node_to_expand == Goal:\n",
    "            return node_to_expand\n",
    "        fringe = Expand(node)\n",
    "        "
   ]
  }
 ],
 "metadata": {
  "kernelspec": {
   "display_name": "Python 3",
   "language": "python",
   "name": "python3"
  },
  "language_info": {
   "codemirror_mode": {
    "name": "ipython",
    "version": 3
   },
   "file_extension": ".py",
   "mimetype": "text/x-python",
   "name": "python",
   "nbconvert_exporter": "python",
   "pygments_lexer": "ipython3",
   "version": "3.8.5"
  }
 },
 "nbformat": 4,
 "nbformat_minor": 4
}
